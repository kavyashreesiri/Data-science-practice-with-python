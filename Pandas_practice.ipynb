{
 "cells": [
  {
   "cell_type": "markdown",
   "metadata": {},
   "source": [
    "# Stanford Open Policing Project dataset"
   ]
  },
  {
   "cell_type": "markdown",
   "metadata": {},
   "source": [
    "## Examining the dataset\n"
   ]
  },
  {
   "cell_type": "code",
   "execution_count": 69,
   "metadata": {},
   "outputs": [
    {
     "name": "stdout",
     "output_type": "stream",
     "text": [
      "              id state   stop_date stop_time location_raw  county_name  \\\n",
      "0  RI-2005-00001    RI  2005-01-02     01:55      Zone K1          NaN   \n",
      "\n",
      "   county_fips  fine_grained_location police_department driver_gender  \\\n",
      "0          NaN                    NaN               600             M   \n",
      "\n",
      "     ...     search_conducted  search_type_raw search_type contraband_found  \\\n",
      "0    ...                False              NaN         NaN            False   \n",
      "\n",
      "  stop_outcome is_arrested stop_duration out_of_state drugs_related_stop  \\\n",
      "0     Citation       False      0-15 Min        False              False   \n",
      "\n",
      "   district  \n",
      "0   Zone K1  \n",
      "\n",
      "[1 rows x 26 columns]\n",
      "Index(['id', 'state', 'stop_date', 'stop_time', 'location_raw', 'county_name',\n",
      "       'county_fips', 'fine_grained_location', 'police_department',\n",
      "       'driver_gender', 'driver_age_raw', 'driver_age', 'driver_race_raw',\n",
      "       'driver_race', 'violation_raw', 'violation', 'search_conducted',\n",
      "       'search_type_raw', 'search_type', 'contraband_found', 'stop_outcome',\n",
      "       'is_arrested', 'stop_duration', 'out_of_state', 'drugs_related_stop',\n",
      "       'district'],\n",
      "      dtype='object')\n"
     ]
    },
    {
     "name": "stderr",
     "output_type": "stream",
     "text": [
      "/Users/kavyashreesp/anaconda3/lib/python3.6/site-packages/IPython/core/interactiveshell.py:2728: DtypeWarning: Columns (8,16) have mixed types. Specify dtype option on import or set low_memory=False.\n",
      "  interactivity=interactivity, compiler=compiler, result=result)\n"
     ]
    }
   ],
   "source": [
    "# Import the pandas library as pd\n",
    "import pandas as pd\n",
    "\n",
    "# Read 'police.csv' into a DataFrame named ri\n",
    "ri = pd.read_csv('police.csv')\n",
    "\n",
    "# Examine the head of the DataFrame\n",
    "print(ri.head(1))\n",
    "print(ri.columns)"
   ]
  },
  {
   "cell_type": "code",
   "execution_count": 70,
   "metadata": {},
   "outputs": [
    {
     "name": "stdout",
     "output_type": "stream",
     "text": [
      "           id  state  stop_date  stop_time  location_raw  county_name  \\\n",
      "0       False  False      False      False         False         True   \n",
      "1       False  False      False      False         False         True   \n",
      "2       False  False      False      False         False         True   \n",
      "3       False  False      False      False         False         True   \n",
      "4       False  False      False      False         False         True   \n",
      "5       False  False      False      False         False         True   \n",
      "6       False  False      False      False         False         True   \n",
      "7       False  False      False      False         False         True   \n",
      "8       False  False      False      False         False         True   \n",
      "9       False  False      False      False         False         True   \n",
      "10      False  False      False      False         False         True   \n",
      "11      False  False      False      False         False         True   \n",
      "12      False  False      False      False         False         True   \n",
      "13      False  False      False      False         False         True   \n",
      "14      False  False      False      False         False         True   \n",
      "15      False  False      False      False         False         True   \n",
      "16      False  False      False      False         False         True   \n",
      "17      False  False      False      False         False         True   \n",
      "18      False  False      False      False         False         True   \n",
      "19      False  False      False      False         False         True   \n",
      "20      False  False      False      False         False         True   \n",
      "21      False  False      False      False         False         True   \n",
      "22      False  False      False      False         False         True   \n",
      "23      False  False      False      False         False         True   \n",
      "24      False  False      False      False         False         True   \n",
      "25      False  False      False      False         False         True   \n",
      "26      False  False      False      False         False         True   \n",
      "27      False  False      False      False         False         True   \n",
      "28      False  False      False      False         False         True   \n",
      "29      False  False      False      False         False         True   \n",
      "...       ...    ...        ...        ...           ...          ...   \n",
      "509651  False  False      False      False         False         True   \n",
      "509652  False  False      False      False         False         True   \n",
      "509653  False  False      False      False         False         True   \n",
      "509654  False  False      False      False         False         True   \n",
      "509655  False  False      False      False         False         True   \n",
      "509656  False  False      False      False         False         True   \n",
      "509657  False  False      False      False         False         True   \n",
      "509658  False  False      False      False         False         True   \n",
      "509659  False  False      False      False         False         True   \n",
      "509660  False  False      False      False         False         True   \n",
      "509661  False  False      False      False         False         True   \n",
      "509662  False  False      False      False         False         True   \n",
      "509663  False  False      False      False         False         True   \n",
      "509664  False  False      False      False         False         True   \n",
      "509665  False  False      False      False         False         True   \n",
      "509666  False  False      False      False         False         True   \n",
      "509667  False  False      False      False         False         True   \n",
      "509668  False  False      False      False         False         True   \n",
      "509669  False  False      False      False         False         True   \n",
      "509670  False  False      False      False         False         True   \n",
      "509671  False  False       True       True         False         True   \n",
      "509672  False  False       True       True         False         True   \n",
      "509673  False  False       True       True         False         True   \n",
      "509674  False  False       True       True         False         True   \n",
      "509675  False  False       True       True         False         True   \n",
      "509676  False  False       True       True         False         True   \n",
      "509677  False  False       True       True         False         True   \n",
      "509678  False  False       True       True         False         True   \n",
      "509679  False  False       True       True         False         True   \n",
      "509680  False  False       True       True         False         True   \n",
      "\n",
      "        county_fips  fine_grained_location  police_department  driver_gender  \\\n",
      "0              True                   True              False          False   \n",
      "1              True                   True              False          False   \n",
      "2              True                   True              False           True   \n",
      "3              True                   True              False          False   \n",
      "4              True                   True              False          False   \n",
      "5              True                   True              False          False   \n",
      "6              True                   True              False          False   \n",
      "7              True                   True              False          False   \n",
      "8              True                   True              False          False   \n",
      "9              True                   True              False          False   \n",
      "10             True                   True              False          False   \n",
      "11             True                   True              False          False   \n",
      "12             True                   True              False          False   \n",
      "13             True                   True              False          False   \n",
      "14             True                   True              False          False   \n",
      "15             True                   True              False          False   \n",
      "16             True                   True              False          False   \n",
      "17             True                   True              False           True   \n",
      "18             True                   True              False          False   \n",
      "19             True                   True              False          False   \n",
      "20             True                   True              False          False   \n",
      "21             True                   True              False          False   \n",
      "22             True                   True              False          False   \n",
      "23             True                   True              False          False   \n",
      "24             True                   True              False          False   \n",
      "25             True                   True              False          False   \n",
      "26             True                   True              False          False   \n",
      "27             True                   True              False          False   \n",
      "28             True                   True              False          False   \n",
      "29             True                   True              False          False   \n",
      "...             ...                    ...                ...            ...   \n",
      "509651         True                   True              False          False   \n",
      "509652         True                   True              False          False   \n",
      "509653         True                   True              False          False   \n",
      "509654         True                   True              False          False   \n",
      "509655         True                   True              False          False   \n",
      "509656         True                   True              False          False   \n",
      "509657         True                   True              False           True   \n",
      "509658         True                   True              False          False   \n",
      "509659         True                   True              False          False   \n",
      "509660         True                   True              False          False   \n",
      "509661         True                   True              False          False   \n",
      "509662         True                   True              False          False   \n",
      "509663         True                   True              False          False   \n",
      "509664         True                   True              False          False   \n",
      "509665         True                   True              False          False   \n",
      "509666         True                   True              False          False   \n",
      "509667         True                   True              False          False   \n",
      "509668         True                   True              False          False   \n",
      "509669         True                   True              False          False   \n",
      "509670         True                   True              False          False   \n",
      "509671         True                   True               True           True   \n",
      "509672         True                   True               True           True   \n",
      "509673         True                   True               True           True   \n",
      "509674         True                   True               True           True   \n",
      "509675         True                   True               True           True   \n",
      "509676         True                   True               True           True   \n",
      "509677         True                   True               True           True   \n",
      "509678         True                   True               True           True   \n",
      "509679         True                   True               True           True   \n",
      "509680         True                   True               True           True   \n",
      "\n",
      "          ...     search_conducted  search_type_raw  search_type  \\\n",
      "0         ...                False             True         True   \n",
      "1         ...                False             True         True   \n",
      "2         ...                False             True         True   \n",
      "3         ...                False             True         True   \n",
      "4         ...                False             True         True   \n",
      "5         ...                False             True         True   \n",
      "6         ...                False             True         True   \n",
      "7         ...                False             True         True   \n",
      "8         ...                False             True         True   \n",
      "9         ...                False            False        False   \n",
      "10        ...                False            False        False   \n",
      "11        ...                False             True         True   \n",
      "12        ...                False             True         True   \n",
      "13        ...                False             True         True   \n",
      "14        ...                False             True         True   \n",
      "15        ...                False             True         True   \n",
      "16        ...                False             True         True   \n",
      "17        ...                False             True         True   \n",
      "18        ...                False             True         True   \n",
      "19        ...                False             True         True   \n",
      "20        ...                False             True         True   \n",
      "21        ...                False             True         True   \n",
      "22        ...                False             True         True   \n",
      "23        ...                False             True         True   \n",
      "24        ...                False             True         True   \n",
      "25        ...                False             True         True   \n",
      "26        ...                False             True         True   \n",
      "27        ...                False             True         True   \n",
      "28        ...                False             True         True   \n",
      "29        ...                False             True         True   \n",
      "...       ...                  ...              ...          ...   \n",
      "509651    ...                False             True         True   \n",
      "509652    ...                False             True         True   \n",
      "509653    ...                False             True         True   \n",
      "509654    ...                False             True         True   \n",
      "509655    ...                False             True         True   \n",
      "509656    ...                False             True         True   \n",
      "509657    ...                False             True         True   \n",
      "509658    ...                False             True         True   \n",
      "509659    ...                False             True         True   \n",
      "509660    ...                False             True         True   \n",
      "509661    ...                False             True         True   \n",
      "509662    ...                False             True         True   \n",
      "509663    ...                False             True         True   \n",
      "509664    ...                False             True         True   \n",
      "509665    ...                False             True         True   \n",
      "509666    ...                False             True         True   \n",
      "509667    ...                False             True         True   \n",
      "509668    ...                False             True         True   \n",
      "509669    ...                False             True         True   \n",
      "509670    ...                False             True         True   \n",
      "509671    ...                 True             True         True   \n",
      "509672    ...                 True             True         True   \n",
      "509673    ...                 True             True         True   \n",
      "509674    ...                 True             True         True   \n",
      "509675    ...                 True             True         True   \n",
      "509676    ...                 True             True         True   \n",
      "509677    ...                 True             True         True   \n",
      "509678    ...                 True             True         True   \n",
      "509679    ...                 True             True         True   \n",
      "509680    ...                 True             True         True   \n",
      "\n",
      "        contraband_found  stop_outcome  is_arrested  stop_duration  \\\n",
      "0                  False         False        False          False   \n",
      "1                  False         False        False          False   \n",
      "2                  False          True         True           True   \n",
      "3                  False         False        False          False   \n",
      "4                  False         False        False          False   \n",
      "5                  False         False        False          False   \n",
      "6                  False         False        False          False   \n",
      "7                  False         False        False          False   \n",
      "8                  False         False        False          False   \n",
      "9                  False         False        False          False   \n",
      "10                 False         False        False          False   \n",
      "11                 False         False        False          False   \n",
      "12                 False         False        False          False   \n",
      "13                 False         False        False          False   \n",
      "14                 False         False        False          False   \n",
      "15                 False         False        False          False   \n",
      "16                 False         False        False          False   \n",
      "17                 False          True         True           True   \n",
      "18                 False         False        False          False   \n",
      "19                 False         False        False          False   \n",
      "20                 False         False        False          False   \n",
      "21                 False         False        False          False   \n",
      "22                 False         False        False          False   \n",
      "23                 False         False        False          False   \n",
      "24                 False         False        False          False   \n",
      "25                 False         False        False          False   \n",
      "26                 False         False        False          False   \n",
      "27                 False         False        False          False   \n",
      "28                 False         False        False          False   \n",
      "29                 False         False        False          False   \n",
      "...                  ...           ...          ...            ...   \n",
      "509651             False         False        False          False   \n",
      "509652             False         False        False          False   \n",
      "509653             False         False        False          False   \n",
      "509654             False         False        False          False   \n",
      "509655             False         False        False          False   \n",
      "509656             False         False        False          False   \n",
      "509657             False          True         True           True   \n",
      "509658             False         False        False          False   \n",
      "509659             False         False        False          False   \n",
      "509660             False         False        False          False   \n",
      "509661             False         False        False          False   \n",
      "509662             False         False        False          False   \n",
      "509663             False         False        False          False   \n",
      "509664             False         False        False          False   \n",
      "509665             False         False        False          False   \n",
      "509666             False         False        False          False   \n",
      "509667             False         False        False          False   \n",
      "509668             False         False        False          False   \n",
      "509669             False         False        False          False   \n",
      "509670             False         False        False          False   \n",
      "509671             False          True         True           True   \n",
      "509672             False          True         True           True   \n",
      "509673             False          True         True           True   \n",
      "509674             False          True         True           True   \n",
      "509675             False          True         True           True   \n",
      "509676             False          True         True           True   \n",
      "509677             False          True         True           True   \n",
      "509678             False          True         True           True   \n",
      "509679             False          True         True           True   \n",
      "509680             False          True         True           True   \n",
      "\n",
      "        out_of_state  drugs_related_stop  district  \n",
      "0              False               False     False  \n",
      "1              False               False     False  \n",
      "2               True               False     False  \n",
      "3              False               False     False  \n",
      "4              False               False     False  \n",
      "5              False               False     False  \n",
      "6              False               False     False  \n",
      "7              False               False     False  \n",
      "8              False               False     False  \n",
      "9              False               False     False  \n",
      "10             False               False     False  \n",
      "11             False               False     False  \n",
      "12             False               False     False  \n",
      "13             False               False     False  \n",
      "14             False               False     False  \n",
      "15             False               False     False  \n",
      "16             False               False     False  \n",
      "17              True               False     False  \n",
      "18             False               False     False  \n",
      "19             False               False     False  \n",
      "20             False               False     False  \n",
      "21             False               False     False  \n",
      "22             False               False     False  \n",
      "23             False               False     False  \n",
      "24             False               False     False  \n",
      "25             False               False     False  \n",
      "26             False               False     False  \n",
      "27             False               False     False  \n",
      "28             False               False     False  \n",
      "29             False               False     False  \n",
      "...              ...                 ...       ...  \n",
      "509651         False               False     False  \n",
      "509652         False               False     False  \n",
      "509653         False               False     False  \n",
      "509654         False               False     False  \n",
      "509655         False               False     False  \n",
      "509656         False               False     False  \n",
      "509657          True               False     False  \n",
      "509658         False               False     False  \n",
      "509659         False               False     False  \n",
      "509660         False               False     False  \n",
      "509661         False               False     False  \n",
      "509662         False               False     False  \n",
      "509663         False               False     False  \n",
      "509664         False               False     False  \n",
      "509665         False               False     False  \n",
      "509666         False               False     False  \n",
      "509667         False               False     False  \n",
      "509668         False               False     False  \n",
      "509669         False               False     False  \n",
      "509670         False               False     False  \n",
      "509671          True               False     False  \n",
      "509672          True               False     False  \n",
      "509673          True               False     False  \n",
      "509674          True               False     False  \n",
      "509675          True               False     False  \n",
      "509676          True               False     False  \n",
      "509677          True               False     False  \n",
      "509678          True               False     False  \n",
      "509679          True               False     False  \n",
      "509680          True               False     False  \n",
      "\n",
      "[509681 rows x 26 columns]\n"
     ]
    },
    {
     "name": "stdout",
     "output_type": "stream",
     "text": [
      "id                            0\n",
      "state                         0\n",
      "stop_date                    10\n",
      "stop_time                    10\n",
      "location_raw                  0\n",
      "county_name              509681\n",
      "county_fips              509681\n",
      "fine_grained_location    509681\n",
      "police_department            10\n",
      "driver_gender             29097\n",
      "driver_age_raw            29049\n",
      "driver_age                30695\n",
      "driver_race_raw           29073\n",
      "driver_race               29073\n",
      "violation_raw             29073\n",
      "violation                 29073\n",
      "search_conducted             10\n",
      "search_type_raw          491919\n",
      "search_type              491919\n",
      "contraband_found              0\n",
      "stop_outcome              29073\n",
      "is_arrested               29073\n",
      "stop_duration             29073\n",
      "out_of_state              29881\n",
      "drugs_related_stop            0\n",
      "district                      0\n",
      "dtype: int64\n"
     ]
    }
   ],
   "source": [
    "print(ri.isnull())\n",
    "# Count the number of missing values in each column\n",
    "print(ri.isnull().sum())"
   ]
  },
  {
   "cell_type": "markdown",
   "metadata": {},
   "source": [
    "There are 26 columns and  --rows.\n",
    "\n",
    "NaN are themissing values.There are many recirds with missing values.\n",
    "\n",
    "We have to drop those rows  which have NaN values.\n",
    "\n",
    "Number of missing fields in each column are obtained above using ri.isnull().sum()"
   ]
  },
  {
   "cell_type": "markdown",
   "metadata": {},
   "source": [
    "### Dropping columns"
   ]
  },
  {
   "cell_type": "code",
   "execution_count": 71,
   "metadata": {},
   "outputs": [
    {
     "name": "stdout",
     "output_type": "stream",
     "text": [
      "(509681, 26)\n",
      "(509681, 13)\n",
      "    stop_date stop_time driver_gender driver_race violation_raw violation  \\\n",
      "0  2005-01-02     01:55             M       White      Speeding  Speeding   \n",
      "1  2005-01-02     20:30             M       White      Speeding  Speeding   \n",
      "\n",
      "  search_conducted search_type stop_outcome is_arrested stop_duration  \\\n",
      "0            False         NaN     Citation       False      0-15 Min   \n",
      "1            False         NaN     Citation       False     16-30 Min   \n",
      "\n",
      "   drugs_related_stop district  \n",
      "0               False  Zone K1  \n",
      "1               False  Zone X4  \n"
     ]
    }
   ],
   "source": [
    "# Examine the shape of the DataFrame\n",
    "print(ri.shape)\n",
    "\n",
    "# Drop the 'county_name' and 'state' columns\n",
    "ri.drop(['id','county_name', 'state','county_fips','fine_grained_location','driver_age_raw','driver_age','location_raw','police_department','contraband_found','driver_race_raw','search_type_raw','out_of_state'], axis='columns', inplace=True)\n",
    "\n",
    "# Examine the shape of the DataFrame (again)\n",
    "print(ri.shape)\n",
    "print(ri.head(2))"
   ]
  },
  {
   "cell_type": "markdown",
   "metadata": {},
   "source": [
    "### Dropping rows"
   ]
  },
  {
   "cell_type": "code",
   "execution_count": 72,
   "metadata": {},
   "outputs": [
    {
     "name": "stdout",
     "output_type": "stream",
     "text": [
      "stop_date                 10\n",
      "stop_time                 10\n",
      "driver_gender          29097\n",
      "driver_race            29073\n",
      "violation_raw          29073\n",
      "violation              29073\n",
      "search_conducted          10\n",
      "search_type           491919\n",
      "stop_outcome           29073\n",
      "is_arrested            29073\n",
      "stop_duration          29073\n",
      "drugs_related_stop         0\n",
      "district                   0\n",
      "dtype: int64\n",
      "(509681, 13)\n",
      "stop_date                  0\n",
      "stop_time                  0\n",
      "driver_gender              0\n",
      "driver_race                0\n",
      "violation_raw              0\n",
      "violation                  0\n",
      "search_conducted           0\n",
      "search_type           462822\n",
      "stop_outcome               0\n",
      "is_arrested                0\n",
      "stop_duration              0\n",
      "drugs_related_stop         0\n",
      "district                   0\n",
      "dtype: int64\n",
      "(480584, 13)\n"
     ]
    }
   ],
   "source": [
    "# Count the number of missing values in each column\n",
    "print(ri.isnull().sum())\n",
    "print(ri.shape)\n",
    "# Drop all rows that are missing 'driver_gender'\n",
    "ri.dropna(subset=['driver_gender'], inplace=True)\n",
    "\n",
    "# Count the number of missing values in each column (again)\n",
    "print(ri.isnull().sum())\n",
    "\n",
    "# Examine the shape of the DataFrame\n",
    "print(ri.shape)"
   ]
  },
  {
   "cell_type": "markdown",
   "metadata": {},
   "source": [
    "Out of 509681 rows,480584 rows are remaining after dropping missing values in driver_gender"
   ]
  },
  {
   "cell_type": "markdown",
   "metadata": {},
   "source": [
    "## Examining the data types"
   ]
  },
  {
   "cell_type": "code",
   "execution_count": 73,
   "metadata": {},
   "outputs": [
    {
     "data": {
      "text/plain": [
       "stop_date             object\n",
       "stop_time             object\n",
       "driver_gender         object\n",
       "driver_race           object\n",
       "violation_raw         object\n",
       "violation             object\n",
       "search_conducted      object\n",
       "search_type           object\n",
       "stop_outcome          object\n",
       "is_arrested           object\n",
       "stop_duration         object\n",
       "drugs_related_stop      bool\n",
       "district              object\n",
       "dtype: object"
      ]
     },
     "execution_count": 73,
     "metadata": {},
     "output_type": "execute_result"
    }
   ],
   "source": [
    "ri.dtypes"
   ]
  },
  {
   "cell_type": "code",
   "execution_count": 77,
   "metadata": {},
   "outputs": [
    {
     "name": "stdout",
     "output_type": "stream",
     "text": [
      "bool\n",
      "bool\n"
     ]
    }
   ],
   "source": [
    "ri['is_arrested'] = ri.is_arrested.astype('bool')\n",
    "ri['search_conducted']=ri.search_conducted.astype('bool')\n",
    "print(ri.is_arrested.dtype)\n",
    "print(ri.search_conducted.dtype)"
   ]
  },
  {
   "cell_type": "markdown",
   "metadata": {},
   "source": [
    "### Creating a DatetimeIndex"
   ]
  },
  {
   "cell_type": "code",
   "execution_count": 79,
   "metadata": {},
   "outputs": [
    {
     "name": "stdout",
     "output_type": "stream",
     "text": [
      "stop_date                     object\n",
      "stop_time                     object\n",
      "driver_gender                 object\n",
      "driver_race                   object\n",
      "violation_raw                 object\n",
      "violation                     object\n",
      "search_conducted                bool\n",
      "search_type                   object\n",
      "stop_outcome                  object\n",
      "is_arrested                     bool\n",
      "stop_duration                 object\n",
      "drugs_related_stop              bool\n",
      "district                      object\n",
      "stop_datetime         datetime64[ns]\n",
      "dtype: object\n",
      "    stop_date stop_time driver_gender driver_race violation_raw violation  \\\n",
      "0  2005-01-02     01:55             M       White      Speeding  Speeding   \n",
      "1  2005-01-02     20:30             M       White      Speeding  Speeding   \n",
      "\n",
      "   search_conducted search_type stop_outcome  is_arrested stop_duration  \\\n",
      "0             False         NaN     Citation        False      0-15 Min   \n",
      "1             False         NaN     Citation        False     16-30 Min   \n",
      "\n",
      "   drugs_related_stop district       stop_datetime  \n",
      "0               False  Zone K1 2005-01-02 01:55:00  \n",
      "1               False  Zone X4 2005-01-02 20:30:00  \n"
     ]
    }
   ],
   "source": [
    "#Combining object columns\n",
    "# Concatenate 'stop_date' and 'stop_time' (separated by a space)\n",
    "combined = ri.stop_date.str.cat(ri.stop_time,sep=' ')\n",
    "\n",
    "# Convert 'combined' to datetime format\n",
    "ri['stop_datetime'] =pd.to_datetime(combined)\n",
    "\n",
    "# Examine the data types of the DataFrame\n",
    "print(ri.dtypes)\n",
    "print(ri.head(2))"
   ]
  },
  {
   "cell_type": "markdown",
   "metadata": {},
   "source": [
    "#### Setting the index"
   ]
  },
  {
   "cell_type": "code",
   "execution_count": 80,
   "metadata": {},
   "outputs": [
    {
     "name": "stdout",
     "output_type": "stream",
     "text": [
      "                      stop_date stop_time driver_gender driver_race  \\\n",
      "stop_datetime                                                         \n",
      "2005-01-02 01:55:00  2005-01-02     01:55             M       White   \n",
      "2005-01-02 20:30:00  2005-01-02     20:30             M       White   \n",
      "\n",
      "                    violation_raw violation  search_conducted search_type  \\\n",
      "stop_datetime                                                               \n",
      "2005-01-02 01:55:00      Speeding  Speeding             False         NaN   \n",
      "2005-01-02 20:30:00      Speeding  Speeding             False         NaN   \n",
      "\n",
      "                    stop_outcome  is_arrested stop_duration  \\\n",
      "stop_datetime                                                 \n",
      "2005-01-02 01:55:00     Citation        False      0-15 Min   \n",
      "2005-01-02 20:30:00     Citation        False     16-30 Min   \n",
      "\n",
      "                     drugs_related_stop district  \n",
      "stop_datetime                                     \n",
      "2005-01-02 01:55:00               False  Zone K1  \n",
      "2005-01-02 20:30:00               False  Zone X4  \n",
      "DatetimeIndex(['2005-01-02 01:55:00', '2005-01-02 20:30:00',\n",
      "               '2005-01-04 12:55:00', '2005-01-06 01:30:00',\n",
      "               '2005-01-12 08:05:00', '2005-01-18 08:15:00',\n",
      "               '2005-01-18 17:13:00', '2005-01-23 23:15:00',\n",
      "               '2005-01-24 20:32:00', '2005-02-09 03:05:00',\n",
      "               ...\n",
      "               '2015-12-31 22:10:00', '2015-12-31 22:14:00',\n",
      "               '2015-12-31 22:26:00', '2015-12-31 22:38:00',\n",
      "               '2015-12-31 22:39:00', '2015-12-31 22:46:00',\n",
      "               '2015-12-31 22:47:00', '2015-12-31 23:08:00',\n",
      "               '2015-12-31 23:44:00', '2015-12-31 23:48:00'],\n",
      "              dtype='datetime64[ns]', name='stop_datetime', length=480584, freq=None)\n",
      "Index(['stop_date', 'stop_time', 'driver_gender', 'driver_race',\n",
      "       'violation_raw', 'violation', 'search_conducted', 'search_type',\n",
      "       'stop_outcome', 'is_arrested', 'stop_duration', 'drugs_related_stop',\n",
      "       'district'],\n",
      "      dtype='object')\n"
     ]
    }
   ],
   "source": [
    "# Set 'stop_datetime' as the index\n",
    "ri.set_index('stop_datetime', inplace=True)\n",
    "print(ri.head(2))\n",
    "# Examine the index\n",
    "print(ri.index)\n",
    "\n",
    "# Examine the columns\n",
    "print(ri.columns)"
   ]
  },
  {
   "cell_type": "code",
   "execution_count": 81,
   "metadata": {},
   "outputs": [
    {
     "name": "stdout",
     "output_type": "stream",
     "text": [
      "stop_date             object\n",
      "stop_time             object\n",
      "driver_gender         object\n",
      "driver_race           object\n",
      "violation_raw         object\n",
      "violation             object\n",
      "search_conducted        bool\n",
      "search_type           object\n",
      "stop_outcome          object\n",
      "is_arrested             bool\n",
      "stop_duration         object\n",
      "drugs_related_stop      bool\n",
      "district              object\n",
      "dtype: object\n"
     ]
    }
   ],
   "source": [
    "print(ri.dtypes)"
   ]
  },
  {
   "cell_type": "markdown",
   "metadata": {},
   "source": [
    "## Questions"
   ]
  },
  {
   "cell_type": "markdown",
   "metadata": {},
   "source": [
    "##### 1. Do the genders commit different violations?"
   ]
  },
  {
   "cell_type": "code",
   "execution_count": 82,
   "metadata": {},
   "outputs": [
    {
     "name": "stdout",
     "output_type": "stream",
     "text": [
      "Citation            428378\n",
      "Warning              28840\n",
      "Arrest Driver        14630\n",
      "N/D                   3431\n",
      "No Action             3332\n",
      "Arrest Passenger      1973\n",
      "Name: stop_outcome, dtype: int64\n"
     ]
    },
    {
     "data": {
      "text/plain": [
       "480584"
      ]
     },
     "execution_count": 82,
     "metadata": {},
     "output_type": "execute_result"
    }
   ],
   "source": [
    "print(ri.stop_outcome.value_counts())\n",
    "#method chaining sum()\n",
    "ri.stop_outcome.value_counts().sum()"
   ]
  },
  {
   "cell_type": "code",
   "execution_count": 83,
   "metadata": {},
   "outputs": [
    {
     "name": "stdout",
     "output_type": "stream",
     "text": [
      "Citation            0.891370\n",
      "Warning             0.060010\n",
      "Arrest Driver       0.030442\n",
      "N/D                 0.007139\n",
      "No Action           0.006933\n",
      "Arrest Passenger    0.004105\n",
      "Name: stop_outcome, dtype: float64\n"
     ]
    }
   ],
   "source": [
    "#value_counts() suits for categorical data\n",
    "print(ri.stop_outcome.value_counts(normalize=True))"
   ]
  },
  {
   "cell_type": "markdown",
   "metadata": {},
   "source": [
    "##### Filtering DataFrame rows"
   ]
  },
  {
   "cell_type": "code",
   "execution_count": 85,
   "metadata": {},
   "outputs": [
    {
     "data": {
      "text/plain": [
       "White       344716\n",
       "Black        68577\n",
       "Hispanic     53123\n",
       "Asian        12824\n",
       "Other         1344\n",
       "Name: driver_race, dtype: int64"
      ]
     },
     "execution_count": 85,
     "metadata": {},
     "output_type": "execute_result"
    }
   ],
   "source": [
    "ri.shape\n",
    "ri.driver_race.value_counts()"
   ]
  },
  {
   "cell_type": "code",
   "execution_count": 88,
   "metadata": {},
   "outputs": [
    {
     "name": "stdout",
     "output_type": "stream",
     "text": [
      "(344716, 13)\n"
     ]
    }
   ],
   "source": [
    "white=ri[ri.driver_race=='White']\n",
    "print(white.shape)"
   ]
  },
  {
   "cell_type": "code",
   "execution_count": 90,
   "metadata": {},
   "outputs": [
    {
     "data": {
      "text/plain": [
       "Citation            0.927792\n",
       "Warning             0.041563\n",
       "Arrest Driver       0.018013\n",
       "No Action           0.005848\n",
       "N/D                 0.004679\n",
       "Arrest Passenger    0.002105\n",
       "Name: stop_outcome, dtype: float64"
      ]
     },
     "execution_count": 90,
     "metadata": {},
     "output_type": "execute_result"
    }
   ],
   "source": [
    "asian = ri[ri.driver_race == 'Asian']\n",
    "asian.stop_outcome.value_counts(normalize=True)"
   ]
  },
  {
   "cell_type": "markdown",
   "metadata": {},
   "source": [
    "##### Whether male and female drivers tend to commit different types of traffic violations?"
   ]
  },
  {
   "cell_type": "code",
   "execution_count": 97,
   "metadata": {},
   "outputs": [
    {
     "name": "stdout",
     "output_type": "stream",
     "text": [
      "M    349446\n",
      "F    131138\n",
      "Name: driver_gender, dtype: int64\n",
      "(131138, 13)\n",
      "(349446, 13)\n",
      "Citation            0.897337\n",
      "Warning             0.062636\n",
      "Arrest Driver       0.020429\n",
      "No Action           0.007946\n",
      "N/D                 0.006588\n",
      "Arrest Passenger    0.005063\n",
      "Name: stop_outcome, dtype: float64\n",
      "Citation            0.889130\n",
      "Warning             0.059025\n",
      "Arrest Driver       0.034200\n",
      "N/D                 0.007346\n",
      "No Action           0.006553\n",
      "Arrest Passenger    0.003746\n",
      "Name: stop_outcome, dtype: float64\n"
     ]
    }
   ],
   "source": [
    "print(ri.driver_gender.value_counts())\n",
    "female=ri[ri.driver_gender=='F']\n",
    "print(female.shape)\n",
    "male=ri[ri.driver_gender=='M']\n",
    "print(male.shape)\n",
    "print(female.violation.value_counts(normalize=True))\n",
    "print(male.violation.value_counts(normalize=True))"
   ]
  },
  {
   "cell_type": "markdown",
   "metadata": {},
   "source": [
    "About two-thirds of female traffic stops are for speeding, whereas stops of males are more balanced among the six categories. This doesn't mean that females speed more often than males, however, since we didn't take into account the number of stops or drivers."
   ]
  },
  {
   "cell_type": "markdown",
   "metadata": {},
   "source": [
    "##### Does gender affect who gets a ticket for speeding?"
   ]
  },
  {
   "cell_type": "code",
   "execution_count": 100,
   "metadata": {
    "scrolled": true
   },
   "outputs": [
    {
     "data": {
      "text/plain": [
       "(3343, 13)"
      ]
     },
     "execution_count": 100,
     "metadata": {},
     "output_type": "execute_result"
    }
   ],
   "source": [
    "female_and_arrested=ri[(ri.driver_gender == 'F') &\n",
    "                         (ri.is_arrested == True)]\n",
    "female_and_arrested.shape"
   ]
  },
  {
   "cell_type": "code",
   "execution_count": 101,
   "metadata": {},
   "outputs": [
    {
     "data": {
      "text/plain": [
       "(26183, 13)"
      ]
     },
     "execution_count": 101,
     "metadata": {},
     "output_type": "execute_result"
    }
   ],
   "source": [
    "female_or_arrested = ri[(ri.driver_gender == 'F') |\n",
    "                        (ri.is_arrested == True)]\n",
    "female_or_arrested.shape\n",
    "(26183, 13)"
   ]
  },
  {
   "cell_type": "markdown",
   "metadata": {},
   "source": [
    "Rules for filtering by multiple conditions\n",
    "\n",
    "Ampersand (&): only include rows that satisfy both conditions\n",
    "\n",
    "Pipe (|): include rows that satisfy either condition\n",
    "\n",
    "Each condition must be surrounded by parentheses\n",
    "\n",
    "Conditions can check for equality (==), inequality (!=), etc.\n",
    "\n",
    "Can use more than two conditions"
   ]
  },
  {
   "cell_type": "markdown",
   "metadata": {},
   "source": [
    "##### When a driver is pulled over for speeding, many people believe that gender has an impact on whether the driver will receive a ticket or a warning.Is that True or Not?"
   ]
  },
  {
   "cell_type": "code",
   "execution_count": 104,
   "metadata": {},
   "outputs": [
    {
     "name": "stdout",
     "output_type": "stream",
     "text": [
      "Citation            0.953247\n",
      "Warning             0.039003\n",
      "Arrest Driver       0.005290\n",
      "Arrest Passenger    0.001033\n",
      "N/D                 0.000905\n",
      "No Action           0.000522\n",
      "Name: stop_outcome, dtype: float64\n",
      "Citation            0.944636\n",
      "Warning             0.036086\n",
      "Arrest Driver       0.015767\n",
      "Arrest Passenger    0.001265\n",
      "N/D                 0.001183\n",
      "No Action           0.001063\n",
      "Name: stop_outcome, dtype: float64\n",
      "(86198, 13)\n",
      "(182538, 13)\n"
     ]
    }
   ],
   "source": [
    "# Create a DataFrame of female drivers stopped for speeding\n",
    "female_and_speeding = ri[(ri.violation=='Speeding')&(ri.driver_gender=='F')]\n",
    "\n",
    "# Create a DataFrame of male drivers stopped for speeding\n",
    "male_and_speeding = ri[(ri.violation=='Speeding')&(ri.driver_gender=='M')]\n",
    "\n",
    "# Compute the stop outcomes for female drivers (as proportions)\n",
    "print(female_and_speeding.stop_outcome.value_counts(normalize=True))\n",
    "\n",
    "# Compute the stop outcomes for male drivers (as proportions)\n",
    "print(male_and_speeding.stop_outcome.value_counts(normalize=True))\n",
    "print(female_and_speeding.shape)\n",
    "print(male_and_speeding.shape)"
   ]
  },
  {
   "cell_type": "markdown",
   "metadata": {},
   "source": [
    "Interesting! The numbers are similar for males and females: about 95% of stops for speeding result in a ticket. Thus, the data fails to show that gender has an impact on who gets a ticket for speeding."
   ]
  },
  {
   "cell_type": "markdown",
   "metadata": {},
   "source": [
    "##### Does gender affect whose vehicle is searched?"
   ]
  },
  {
   "cell_type": "code",
   "execution_count": 105,
   "metadata": {},
   "outputs": [
    {
     "data": {
      "text/plain": [
       "False    0.965452\n",
       "True     0.034548\n",
       "Name: is_arrested, dtype: float64"
      ]
     },
     "execution_count": 105,
     "metadata": {},
     "output_type": "execute_result"
    }
   ],
   "source": [
    "#Mean of Boolean Series represents percentage of True values\n",
    "import numpy as np\n",
    "ri.is_arrested.value_counts(normalize=True)"
   ]
  },
  {
   "cell_type": "code",
   "execution_count": 106,
   "metadata": {},
   "outputs": [
    {
     "data": {
      "text/plain": [
       "0.03454755048024903"
      ]
     },
     "execution_count": 106,
     "metadata": {},
     "output_type": "execute_result"
    }
   ],
   "source": [
    "ri.is_arrested.mean()"
   ]
  },
  {
   "cell_type": "code",
   "execution_count": 108,
   "metadata": {},
   "outputs": [
    {
     "data": {
      "text/plain": [
       "array(['Zone K1', 'Zone X4', 'Zone X1', 'Zone K3', 'Zone X3', 'Zone K2'],\n",
       "      dtype=object)"
      ]
     },
     "execution_count": 108,
     "metadata": {},
     "output_type": "execute_result"
    }
   ],
   "source": [
    "#Comparing groups using groupby,Studying the arrest rate by police district\n",
    "ri.district.unique()"
   ]
  },
  {
   "cell_type": "code",
   "execution_count": 109,
   "metadata": {},
   "outputs": [
    {
     "data": {
      "text/plain": [
       "0.024051181956191714"
      ]
     },
     "execution_count": 109,
     "metadata": {},
     "output_type": "execute_result"
    }
   ],
   "source": [
    "ri[ri.district == 'Zone K1'].is_arrested.mean()"
   ]
  },
  {
   "cell_type": "code",
   "execution_count": 110,
   "metadata": {},
   "outputs": [
    {
     "data": {
      "text/plain": [
       "district\n",
       "Zone K1    0.024051\n",
       "Zone K2    0.028125\n",
       "Zone K3    0.032020\n",
       "Zone X1    0.026165\n",
       "Zone X3    0.033355\n",
       "Zone X4    0.047291\n",
       "Name: is_arrested, dtype: float64"
      ]
     },
     "execution_count": 110,
     "metadata": {},
     "output_type": "execute_result"
    }
   ],
   "source": [
    "ri.groupby('district').is_arrested.mean()"
   ]
  },
  {
   "cell_type": "markdown",
   "metadata": {},
   "source": [
    "`X4` has higher number of arrests"
   ]
  },
  {
   "cell_type": "code",
   "execution_count": 112,
   "metadata": {},
   "outputs": [
    {
     "data": {
      "text/plain": [
       "district  driver_gender\n",
       "Zone K1   F                0.015374\n",
       "          M                0.027779\n",
       "Zone K2   F                0.019528\n",
       "          M                0.031619\n",
       "Zone K3   F                0.022614\n",
       "          M                0.035451\n",
       "Zone X1   F                0.020725\n",
       "          M                0.027561\n",
       "Zone X3   F                0.026076\n",
       "          M                0.036446\n",
       "Zone X4   F                0.038155\n",
       "          M                0.050246\n",
       "Name: is_arrested, dtype: float64"
      ]
     },
     "execution_count": 112,
     "metadata": {},
     "output_type": "execute_result"
    }
   ],
   "source": [
    "#Grouping by multiple categories\n",
    "ri.groupby(['district', 'driver_gender']).is_arrested.mean()"
   ]
  },
  {
   "cell_type": "code",
   "execution_count": 113,
   "metadata": {},
   "outputs": [
    {
     "data": {
      "text/plain": [
       "driver_gender  district\n",
       "F              Zone K1     0.015374\n",
       "               Zone K2     0.019528\n",
       "               Zone K3     0.022614\n",
       "               Zone X1     0.020725\n",
       "               Zone X3     0.026076\n",
       "               Zone X4     0.038155\n",
       "M              Zone K1     0.027779\n",
       "               Zone K2     0.031619\n",
       "               Zone K3     0.035451\n",
       "               Zone X1     0.027561\n",
       "               Zone X3     0.036446\n",
       "               Zone X4     0.050246\n",
       "Name: is_arrested, dtype: float64"
      ]
     },
     "execution_count": 113,
     "metadata": {},
     "output_type": "execute_result"
    }
   ],
   "source": [
    "ri.groupby(['driver_gender','district']).is_arrested.mean()"
   ]
  },
  {
   "cell_type": "markdown",
   "metadata": {},
   "source": [
    "##### calculate the percentage of all stops that result in a vehicle search, also known as the search rate."
   ]
  },
  {
   "cell_type": "code",
   "execution_count": 120,
   "metadata": {},
   "outputs": [
    {
     "name": "stdout",
     "output_type": "stream",
     "text": [
      "bool\n",
      "False    0.963041\n",
      "True     0.036959\n",
      "Name: search_conducted, dtype: float64\n",
      "0.036959199640437465\n"
     ]
    }
   ],
   "source": [
    "# Check the data type of 'search_conducted'\n",
    "print(ri.search_conducted.dtype)\n",
    "\n",
    "# Calculate the search rate by counting the values\n",
    "print(ri.search_conducted.value_counts(normalize=True))\n",
    "\n",
    "# Calculate the search rate by taking the mean\n",
    "print(ri.search_conducted.mean())"
   ]
  },
  {
   "cell_type": "markdown",
   "metadata": {},
   "source": [
    "the search rate is about 3.6%"
   ]
  },
  {
   "cell_type": "code",
   "execution_count": 125,
   "metadata": {},
   "outputs": [
    {
     "name": "stdout",
     "output_type": "stream",
     "text": [
      "0.018751239152648355\n"
     ]
    }
   ],
   "source": [
    "#Comparing search rates by gender\n",
    "\n",
    "# Calculate the search rate for female drivers\n",
    "print(ri[(ri.driver_gender=='F')].search_conducted.mean())"
   ]
  },
  {
   "cell_type": "code",
   "execution_count": 126,
   "metadata": {},
   "outputs": [
    {
     "name": "stdout",
     "output_type": "stream",
     "text": [
      "driver_gender  violation          \n",
      "F              Equipment              0.040245\n",
      "               Moving violation       0.038021\n",
      "               Other                  0.045898\n",
      "               Registration/plates    0.054700\n",
      "               Seat belt              0.017746\n",
      "               Speeding               0.007738\n",
      "M              Equipment              0.070916\n",
      "               Moving violation       0.059156\n",
      "               Other                  0.046120\n",
      "               Registration/plates    0.103589\n",
      "               Seat belt              0.031705\n",
      "               Speeding               0.026630\n",
      "Name: search_conducted, dtype: float64\n"
     ]
    }
   ],
   "source": [
    "# Calculate the search rate for each combination of gender and violation\n",
    "print(ri.groupby(['driver_gender','violation']).search_conducted.mean())"
   ]
  },
  {
   "cell_type": "markdown",
   "metadata": {},
   "source": [
    "For all types of violations, the search rate is higher for males than for females, disproving our hypothesis."
   ]
  },
  {
   "cell_type": "markdown",
   "metadata": {},
   "source": [
    "##### Does gender affect who is frisked during a search?"
   ]
  },
  {
   "cell_type": "code",
   "execution_count": 127,
   "metadata": {},
   "outputs": [
    {
     "data": {
      "text/plain": [
       "False    462822\n",
       "True      17762\n",
       "Name: search_conducted, dtype: int64"
      ]
     },
     "execution_count": 127,
     "metadata": {},
     "output_type": "execute_result"
    }
   ],
   "source": [
    "#Examining the search types\n",
    "ri.search_conducted.value_counts()"
   ]
  },
  {
   "cell_type": "code",
   "execution_count": 128,
   "metadata": {},
   "outputs": [
    {
     "data": {
      "text/plain": [
       "NaN                                                         462822\n",
       "Incident to Arrest                                            6998\n",
       "Probable Cause                                                4989\n",
       "Reasonable Suspicion                                          1141\n",
       "Inventory                                                     1101\n",
       "Protective Frisk                                               879\n",
       "Incident to Arrest,Inventory                                   649\n",
       "Incident to Arrest,Probable Cause                              552\n",
       "Probable Cause,Reasonable Suspicion                            334\n",
       "Probable Cause,Protective Frisk                                221\n",
       "Incident to Arrest,Protective Frisk                            158\n",
       "Incident to Arrest,Inventory,Probable Cause                    151\n",
       "Inventory,Probable Cause                                       132\n",
       "Protective Frisk,Reasonable Suspicion                           83\n",
       "Incident to Arrest,Inventory,Protective Frisk                   77\n",
       "Incident to Arrest,Probable Cause,Protective Frisk              74\n",
       "Inventory,Protective Frisk                                      52\n",
       "Incident to Arrest,Reasonable Suspicion                         49\n",
       "Incident to Arrest,Probable Cause,Reasonable Suspicion          31\n",
       "Probable Cause,Protective Frisk,Reasonable Suspicion            31\n",
       "Inventory,Reasonable Suspicion                                  17\n",
       "Inventory,Probable Cause,Protective Frisk                       14\n",
       "Incident to Arrest,Inventory,Reasonable Suspicion               12\n",
       "Incident to Arrest,Protective Frisk,Reasonable Suspicion         8\n",
       "Inventory,Probable Cause,Reasonable Suspicion                    8\n",
       "Inventory,Protective Frisk,Reasonable Suspicion                  1\n",
       "Name: search_type, dtype: int64"
      ]
     },
     "execution_count": 128,
     "metadata": {},
     "output_type": "execute_result"
    }
   ],
   "source": [
    "ri.search_type.value_counts(dropna=False)\n",
    "#value_counts() excludes missing values by default"
   ]
  },
  {
   "cell_type": "code",
   "execution_count": 129,
   "metadata": {},
   "outputs": [
    {
     "data": {
      "text/plain": [
       "Incident to Arrest                                          6998\n",
       "Probable Cause                                              4989\n",
       "Reasonable Suspicion                                        1141\n",
       "Inventory                                                   1101\n",
       "Protective Frisk                                             879\n",
       "Incident to Arrest,Inventory                                 649\n",
       "Incident to Arrest,Probable Cause                            552\n",
       "Probable Cause,Reasonable Suspicion                          334\n",
       "Probable Cause,Protective Frisk                              221\n",
       "Incident to Arrest,Protective Frisk                          158\n",
       "Incident to Arrest,Inventory,Probable Cause                  151\n",
       "Inventory,Probable Cause                                     132\n",
       "Protective Frisk,Reasonable Suspicion                         83\n",
       "Incident to Arrest,Inventory,Protective Frisk                 77\n",
       "Incident to Arrest,Probable Cause,Protective Frisk            74\n",
       "Inventory,Protective Frisk                                    52\n",
       "Incident to Arrest,Reasonable Suspicion                       49\n",
       "Probable Cause,Protective Frisk,Reasonable Suspicion          31\n",
       "Incident to Arrest,Probable Cause,Reasonable Suspicion        31\n",
       "Inventory,Reasonable Suspicion                                17\n",
       "Inventory,Probable Cause,Protective Frisk                     14\n",
       "Incident to Arrest,Inventory,Reasonable Suspicion             12\n",
       "Incident to Arrest,Protective Frisk,Reasonable Suspicion       8\n",
       "Inventory,Probable Cause,Reasonable Suspicion                  8\n",
       "Inventory,Protective Frisk,Reasonable Suspicion                1\n",
       "Name: search_type, dtype: int64"
      ]
     },
     "execution_count": 129,
     "metadata": {},
     "output_type": "execute_result"
    }
   ],
   "source": [
    "ri.search_type.value_counts()\n",
    "#dropna=False displays missing values"
   ]
  },
  {
   "cell_type": "code",
   "execution_count": 133,
   "metadata": {},
   "outputs": [
    {
     "data": {
      "text/plain": [
       "441"
      ]
     },
     "execution_count": 133,
     "metadata": {},
     "output_type": "execute_result"
    }
   ],
   "source": [
    "#Multiple values are separated by commas\n",
    "#219 searches in which \"Inventory\" was the only search type\n",
    "ri['inventory'] = ri.search_type.str.contains('Inventory', na=False)\n",
    "#str.contains() returns True if string is found, False if not found\n",
    "#na=False returns False when it finds a missing value\n",
    "ri.inventory.dtype\n",
    "#True means an inventory was done, False means it was not\n",
    "ri.inventory.sum()\n",
    "441"
   ]
  },
  {
   "cell_type": "markdown",
   "metadata": {},
   "source": [
    "##### Calculating the inventory rate"
   ]
  },
  {
   "cell_type": "code",
   "execution_count": 135,
   "metadata": {},
   "outputs": [
    {
     "data": {
      "text/plain": [
       "0.004606894944484211"
      ]
     },
     "execution_count": 135,
     "metadata": {},
     "output_type": "execute_result"
    }
   ],
   "source": [
    "ri.inventory.mean()\n",
    "#0.46% of all traffic stops resulted in an inventory\n"
   ]
  },
  {
   "cell_type": "code",
   "execution_count": 138,
   "metadata": {},
   "outputs": [
    {
     "data": {
      "text/plain": [
       "0.13335349259147264"
      ]
     },
     "execution_count": 138,
     "metadata": {},
     "output_type": "execute_result"
    }
   ],
   "source": [
    "searched = ri[ri.search_conducted == True]\n",
    "searched.inventory.mean()\n",
    "0.13335349259147264\n",
    "#Correct Answer: 13.3% of searches included an inventory"
   ]
  },
  {
   "cell_type": "code",
   "execution_count": 146,
   "metadata": {},
   "outputs": [
    {
     "name": "stdout",
     "output_type": "stream",
     "text": [
      "Incident to Arrest                                          6998\n",
      "Probable Cause                                              4989\n",
      "Reasonable Suspicion                                        1141\n",
      "Inventory                                                   1101\n",
      "Protective Frisk                                             879\n",
      "Incident to Arrest,Inventory                                 649\n",
      "Incident to Arrest,Probable Cause                            552\n",
      "Probable Cause,Reasonable Suspicion                          334\n",
      "Probable Cause,Protective Frisk                              221\n",
      "Incident to Arrest,Protective Frisk                          158\n",
      "Incident to Arrest,Inventory,Probable Cause                  151\n",
      "Inventory,Probable Cause                                     132\n",
      "Protective Frisk,Reasonable Suspicion                         83\n",
      "Incident to Arrest,Inventory,Protective Frisk                 77\n",
      "Incident to Arrest,Probable Cause,Protective Frisk            74\n",
      "Inventory,Protective Frisk                                    52\n",
      "Incident to Arrest,Reasonable Suspicion                       49\n",
      "Probable Cause,Protective Frisk,Reasonable Suspicion          31\n",
      "Incident to Arrest,Probable Cause,Reasonable Suspicion        31\n",
      "Inventory,Reasonable Suspicion                                17\n",
      "Inventory,Probable Cause,Protective Frisk                     14\n",
      "Incident to Arrest,Inventory,Reasonable Suspicion             12\n",
      "Incident to Arrest,Protective Frisk,Reasonable Suspicion       8\n",
      "Inventory,Probable Cause,Reasonable Suspicion                  8\n",
      "Inventory,Protective Frisk,Reasonable Suspicion                1\n",
      "Name: search_type, dtype: int64\n",
      "bool\n",
      "1598\n"
     ]
    }
   ],
   "source": [
    "##Counting protective frisks\n",
    "# Count the 'search_type' values\n",
    "print(ri.search_type.value_counts())\n",
    "\n",
    "# Check if 'search_type' contains the string 'Protective Frisk'\n",
    "ri['frisk'] = ri.search_type.str.contains('Protective Frisk', na=False)\n",
    "\n",
    "# Check the data type of 'frisk'\n",
    "print(ri.frisk.dtype)\n",
    "\n",
    "# Take the sum of 'frisk'\n",
    "print(ri.frisk.sum())"
   ]
  },
  {
   "cell_type": "code",
   "execution_count": 157,
   "metadata": {},
   "outputs": [
    {
     "name": "stdout",
     "output_type": "stream",
     "text": [
      "0.08996734601959239\n",
      "driver_gender\n",
      "F    0.066694\n",
      "M    0.093707\n",
      "Name: frisk, dtype: float64\n"
     ]
    }
   ],
   "source": [
    "## Comparing frisk rates by gender\n",
    "# Create a DataFrame of stops in which a search was conducted\n",
    "searched = ri[(ri.search_conducted==True)]\n",
    "\n",
    "# Calculate the overall frisk rate by taking the mean of 'frisk'\n",
    "print(searched.frisk.mean())\n",
    "\n",
    "# Calculate the frisk rate for each gender\n",
    "print(searched.groupby(['driver_gender']).frisk.mean())"
   ]
  },
  {
   "cell_type": "markdown",
   "metadata": {},
   "source": [
    "##### Does time of day affect arrest rate?"
   ]
  },
  {
   "cell_type": "code",
   "execution_count": null,
   "metadata": {},
   "outputs": [],
   "source": []
  }
 ],
 "metadata": {
  "kernelspec": {
   "display_name": "Python 3",
   "language": "python",
   "name": "python3"
  },
  "language_info": {
   "codemirror_mode": {
    "name": "ipython",
    "version": 3
   },
   "file_extension": ".py",
   "mimetype": "text/x-python",
   "name": "python",
   "nbconvert_exporter": "python",
   "pygments_lexer": "ipython3",
   "version": "3.6.4"
  }
 },
 "nbformat": 4,
 "nbformat_minor": 2
}
